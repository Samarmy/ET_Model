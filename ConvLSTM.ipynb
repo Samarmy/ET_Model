{
 "cells": [
  {
   "cell_type": "code",
   "execution_count": 2,
   "metadata": {
    "collapsed": true
   },
   "outputs": [],
   "source": [
    "import math\n",
    "from functools import partial\n",
    "\n",
    "import torch\n",
    "import torch.nn as nn\n",
    "import torch.nn.functional as F"
   ]
  },
  {
   "cell_type": "code",
   "execution_count": 3,
   "metadata": {
    "collapsed": true
   },
   "outputs": [],
   "source": [
    "class TimeDistributed(nn.Module):\n",
    "    def __init__(self, module, batch_first=False):\n",
    "        super(TimeDistributed, self).__init__()\n",
    "        self.module = module\n",
    "        self.batch_first = batch_first\n",
    "\n",
    "    def forward(self, x):\n",
    "\n",
    "        if len(x.size()) <= 2:\n",
    "            return self.module(x)\n",
    "\n",
    "        # Squash samples and timesteps into a single axis\n",
    "        x_reshape = x.contiguous().view(-1, x.size(-3), x.size(-2), x.size(-1))  # (samples * timesteps, input_size)\n",
    "\n",
    "        y = self.module(x_reshape)\n",
    "\n",
    "        # We have to reshape Y\n",
    "        if self.batch_first:\n",
    "            y = y.contiguous().view(x.size(0), -1, y.size(-3),  y.size(-2),  y.size(-1))  # (samples, timesteps, output_size)\n",
    "        else:\n",
    "            y = y.view(-1, x.size(1), y.size(-1))  # (timesteps, samples, output_size)\n",
    "\n",
    "        return y"
   ]
  },
  {
   "cell_type": "code",
   "execution_count": 28,
   "metadata": {
    "collapsed": true
   },
   "outputs": [],
   "source": [
    "class Encoder(nn.Module):\n",
    "\n",
    "    def __init__(self):\n",
    "        super().__init__()\n",
    "\n",
    "        self.in_planes = [16, 32, 64, 128, 256]\n",
    "\n",
    "        self.convolutions = nn.Sequential(nn.Conv2d(11, self.in_planes[0], kernel_size=5, stride=1, padding=2),\n",
    "                                        nn.BatchNorm2d(self.in_planes[0]),\n",
    "                                        nn.ReLU(),\n",
    "                                        nn.AvgPool2d(kernel_size=2, stride=2),\n",
    "                                        nn.Conv2d(self.in_planes[0], self.in_planes[1], kernel_size=5, stride=1, padding=2),\n",
    "                                        nn.BatchNorm2d(self.in_planes[1]),\n",
    "                                        nn.ReLU(),\n",
    "                                        nn.AvgPool2d(kernel_size=2, stride=2),\n",
    "                                        nn.Conv2d(self.in_planes[1], self.in_planes[2], kernel_size=5, stride=1, padding=2),\n",
    "                                        nn.BatchNorm2d(self.in_planes[2]),\n",
    "                                        nn.ReLU(),\n",
    "                                        nn.AvgPool2d(kernel_size=2, stride=2),\n",
    "                                        nn.Conv2d(self.in_planes[2], self.in_planes[3], kernel_size=5, stride=1, padding=2),\n",
    "                                        nn.BatchNorm2d(self.in_planes[3]),\n",
    "                                        nn.ReLU(),\n",
    "                                        nn.AvgPool2d(kernel_size=2, stride=2),\n",
    "                                        nn.Conv2d(self.in_planes[3], self.in_planes[4], kernel_size=5, stride=1, padding=2),\n",
    "                                        nn.BatchNorm2d(self.in_planes[4]),\n",
    "                                        nn.ReLU(),\n",
    "                                        nn.AvgPool2d(kernel_size=2, stride=2)\n",
    "        \n",
    "        )\n",
    "        \n",
    "        self.fc = nn.Linear(1024, 100)\n",
    "\n",
    "\n",
    "    def forward(self, x):\n",
    "        out = self.convolutions(x)\n",
    "        out = out.view(out.size(0), -1)\n",
    "        out = self.fc(out)\n",
    "\n",
    "        return out"
   ]
  },
  {
   "cell_type": "code",
   "execution_count": 31,
   "metadata": {
    "collapsed": true
   },
   "outputs": [],
   "source": [
    "class ConvLSTM(nn.Module):\n",
    "\n",
    "    def __init__(self):\n",
    "        super().__init__()\n",
    "        \n",
    "        self.Encoder = TimeDistributed(Encoder())\n",
    "        self.RNN = nn.LSTM(100, 100, 4)\n",
    "        self.Output = nn.Linear(100, 1)\n",
    "        \n",
    "#     seq_len, batch, input_size\n",
    "    def forward(self, x):\n",
    "        out = self.Encoder(x)\n",
    "        out = self.RNN(out)\n",
    "        out = self.Output(out[0])\n",
    "        return out[-1]"
   ]
  },
  {
   "cell_type": "code",
   "execution_count": 33,
   "metadata": {
    "collapsed": true
   },
   "outputs": [],
   "source": [
    "net = ConvLSTM()"
   ]
  },
  {
   "cell_type": "code",
   "execution_count": 34,
   "metadata": {
    "collapsed": true
   },
   "outputs": [],
   "source": [
    "test_input = torch.randn((7, 4, 11, 64, 64))"
   ]
  },
  {
   "cell_type": "code",
   "execution_count": 35,
   "metadata": {
    "collapsed": true
   },
   "outputs": [],
   "source": [
    "test_output = net(test_input)"
   ]
  },
  {
   "cell_type": "code",
   "execution_count": 36,
   "metadata": {},
   "outputs": [
    {
     "data": {
      "text/plain": [
       "torch.Size([4, 1])"
      ]
     },
     "execution_count": 36,
     "metadata": {},
     "output_type": "execute_result"
    }
   ],
   "source": [
    "test_output.shape"
   ]
  }
 ],
 "metadata": {
  "kernelspec": {
   "display_name": "Python 3",
   "language": "python",
   "name": "python3"
  },
  "language_info": {
   "codemirror_mode": {
    "name": "ipython",
    "version": 3
   },
   "file_extension": ".py",
   "mimetype": "text/x-python",
   "name": "python",
   "nbconvert_exporter": "python",
   "pygments_lexer": "ipython3",
   "version": "3.6.3"
  }
 },
 "nbformat": 4,
 "nbformat_minor": 4
}
